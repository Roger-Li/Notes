{
  "nbformat": 4,
  "nbformat_minor": 0,
  "metadata": {
    "colab": {
      "name": "03_getting_started_with_nn.ipynb",
      "provenance": [],
      "collapsed_sections": [],
      "authorship_tag": "ABX9TyP52kKgEoVsCFBr8VIYMNuq"
    },
    "kernelspec": {
      "name": "python3",
      "display_name": "Python 3"
    }
  },
  "cells": [
    {
      "cell_type": "markdown",
      "metadata": {
        "id": "STC6CeYMbBBX",
        "colab_type": "text"
      },
      "source": [
        "# Chapter 3. Getting started with neural networks\n",
        "\n",
        "### 3.1.3 Loss function\n",
        "- To learn more about [connectionist temporal classification (CTC)](https://en.wikipedia.org/wiki/Connectionist_temporal_classification) loss for time series data, check out the artical [Sequence Modeling With CTC](https://distill.pub/2017/ctc/) on distill.\n",
        "\n",
        "### 3.2.2 Developing with Keras: a quick overview\n",
        "- There are two ways to define a model: \n",
        "  - using the `Sequential` class (only for linear stacks of layers) or \n",
        "  - the *functional API* (for any directed acyclic graphs of layers)"
      ]
    },
    {
      "cell_type": "code",
      "metadata": {
        "id": "m1hYcsoGb3Yc",
        "colab_type": "code",
        "colab": {}
      },
      "source": [
        ""
      ],
      "execution_count": 0,
      "outputs": []
    }
  ]
}