{
 "cells": [
  {
   "cell_type": "markdown",
   "metadata": {},
   "source": [
    "* *Test/validation* set, *cross validation*\n",
    "    * A test set is used to estimate the generalization error that a model wil make on new instances, before the model is launched in production\n",
    "\n",
    "    * A validation set is used to compare models. It makes it possible to select the best model and tune the hyperparameters.\n",
    "\n",
    "    * Corss-validation is a technique that makes it possible to compare models without the need for a separate validation set. This saves precious training data.\n",
    "\n",
    "* CV\n",
    "The **training** set is split into complementary subsets, and each model is trained against a different combination of these subsets and validated against the remaining parts. Once the model type and hyperparameters have been selected, a final model is trained using these hyperparameters on the full training set, and the generalized error is measured on the test set."
   ]
  }
 ],
 "metadata": {
  "kernelspec": {
   "display_name": "Python 3",
   "language": "python",
   "name": "python3"
  },
  "language_info": {
   "codemirror_mode": {
    "name": "ipython",
    "version": 3
   },
   "file_extension": ".py",
   "mimetype": "text/x-python",
   "name": "python",
   "nbconvert_exporter": "python",
   "pygments_lexer": "ipython3",
   "version": "3.6.3"
  }
 },
 "nbformat": 4,
 "nbformat_minor": 2
}
